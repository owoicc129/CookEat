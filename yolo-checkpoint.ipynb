{
 "cells": [
  {
   "cell_type": "code",
   "execution_count": 1,
   "id": "assisted-nicholas",
   "metadata": {},
   "outputs": [
    {
     "name": "stderr",
     "output_type": "stream",
     "text": [
      "Cloning into 'darknet'...\n",
      "Updating files:  49% (994/2024)\n",
      "Updating files:  50% (1012/2024)\n",
      "Updating files:  51% (1033/2024)\n",
      "Updating files:  52% (1053/2024)\n",
      "Updating files:  53% (1073/2024)\n",
      "Updating files:  54% (1093/2024)\n",
      "Updating files:  55% (1114/2024)\n",
      "Updating files:  56% (1134/2024)\n",
      "Updating files:  57% (1154/2024)\n",
      "Updating files:  58% (1174/2024)\n",
      "Updating files:  59% (1195/2024)\n",
      "Updating files:  60% (1215/2024)\n",
      "Updating files:  61% (1235/2024)\n",
      "Updating files:  62% (1255/2024)\n",
      "Updating files:  63% (1276/2024)\n",
      "Updating files:  64% (1296/2024)\n",
      "Updating files:  65% (1316/2024)\n",
      "Updating files:  66% (1336/2024)\n",
      "Updating files:  67% (1357/2024)\n",
      "Updating files:  68% (1377/2024)\n",
      "Updating files:  69% (1397/2024)\n",
      "Updating files:  70% (1417/2024)\n",
      "Updating files:  71% (1438/2024)\n",
      "Updating files:  72% (1458/2024)\n",
      "Updating files:  73% (1478/2024)\n",
      "Updating files:  74% (1498/2024)\n",
      "Updating files:  75% (1518/2024)\n",
      "Updating files:  76% (1539/2024)\n",
      "Updating files:  77% (1559/2024)\n",
      "Updating files:  78% (1579/2024)\n",
      "Updating files:  79% (1599/2024)\n",
      "Updating files:  80% (1620/2024)\n",
      "Updating files:  81% (1640/2024)\n",
      "Updating files:  82% (1660/2024)\n",
      "Updating files:  83% (1680/2024)\n",
      "Updating files:  84% (1701/2024)\n",
      "Updating files:  85% (1721/2024)\n",
      "Updating files:  86% (1741/2024)\n",
      "Updating files:  87% (1761/2024)\n",
      "Updating files:  88% (1782/2024)\n",
      "Updating files:  89% (1802/2024)\n",
      "Updating files:  90% (1822/2024)\n",
      "Updating files:  91% (1842/2024)\n",
      "Updating files:  92% (1863/2024)\n",
      "Updating files:  93% (1883/2024)\n",
      "Updating files:  94% (1903/2024)\n",
      "Updating files:  95% (1923/2024)\n",
      "Updating files:  96% (1944/2024)\n",
      "Updating files:  97% (1964/2024)\n",
      "Updating files:  98% (1984/2024)\n",
      "Updating files:  99% (2004/2024)\n",
      "Updating files: 100% (2024/2024)\n",
      "Updating files: 100% (2024/2024), done.\n"
     ]
    }
   ],
   "source": [
    "!git clone https://github.com/AlexeyAB/darknet.git"
   ]
  },
  {
   "cell_type": "code",
   "execution_count": null,
   "id": "seven-simple",
   "metadata": {},
   "outputs": [],
   "source": [
    "#windows\n",
    "#下載Visual Studio 2017(記得要安裝英文語言套件)\n",
    "#下載CUDA 10.2  CUDNN 8.0.4 把CUDNN裡的複製到C:\\Program Files\\NVIDIA GPU Computing Toolkit\\CUDA\\v10.2\n",
    "#下載OpenCV 把路徑加到系統環境變數 OpevCV_DIR = "
   ]
  },
  {
   "cell_type": "code",
   "execution_count": null,
   "id": "piano-winning",
   "metadata": {},
   "outputs": [],
   "source": [
    "#桌面建立model資料夾存放模行訓練所需的資料及相關設定。\n",
    "# 將以下檔案複製到model資料夾內：\n",
    "\n",
    "# C:\\Users\\User\\Desktop\\darknet\\darknet.exe\n",
    "# C:\\Users\\User\\Desktop\\darknet\\build\\darknet\\x64\\pthreadVC2.dll\n",
    "# C:\\Users\\User\\Desktop\\darknet\\cfg\\yolov4-tiny-custom.cfg\n",
    "\n",
    "#還需要下載YOLOv4-tiny模型預訓練的權重檔案 yolov4-tiny.conv.29 一併放入"
   ]
  },
  {
   "cell_type": "code",
   "execution_count": null,
   "id": "outside-factory",
   "metadata": {},
   "outputs": [],
   "source": [
    "#以文字編輯器打開yolov4-tiny-custom.cfg檔案，對裡面的設定進行修改，以符合我們預測的需求。\n",
    "# create the cfg file and Rename yolov4-tiny-custom.cfg 修改裡面的參數\n",
    "#change line batch to batch=64\n",
    "#change line subdivisions to subdivisions=16\n",
    "#change line max_batches to (classes*2000, but not less than number of training images and not less than 6000), f.e. max_batches=6000 if you train for 3 classes\n",
    "#change line steps to 80% and 90% of max_batches, f.e. steps=4800,5400\n",
    "#set network size width=416 height=416\n",
    "#change line classes=80 to your number of objects in each of 3 [yolo]\n",
    "#change [filters=255] to filters=(classes + 5)x3 in the 3 [convolutional] before each [yolo] layer, keep in mind that it only has to be the last [convolutional] before each of the [yolo] layers.\n",
    "#when using [Gaussian_yolo] layers, change [filters=57] filters=(classes + 9)x3 in the 3 [convolutional] before each [Gaussian_yolo] layer\n",
    "#So if classes=1 then should be filters=18. If classes=2 then write filters=21"
   ]
  },
  {
   "cell_type": "code",
   "execution_count": 1,
   "id": "infrared-uniform",
   "metadata": {},
   "outputs": [
    {
     "name": "stdout",
     "output_type": "stream",
     "text": [
      "[WinError 2] 系統找不到指定的檔案。: 'C:\\\\Users\\\\CEB10202'\n",
      "C:\\Users\\Big data\\Desktop\n"
     ]
    },
    {
     "name": "stderr",
     "output_type": "stream",
     "text": [
      "Cloning into 'OIDv4_ToolKit'...\n"
     ]
    }
   ],
   "source": [
    "# 切換到想要放置的目錄位置(可自行修改)\n",
    "#cd C:\\Users\\CEB10202\n",
    "\n",
    "# 以下取自Github說明文件:\n",
    "!git clone https://github.com/theAIGuysCode/OIDv4_ToolKit.git"
   ]
  },
  {
   "cell_type": "code",
   "execution_count": 1,
   "id": "frequent-surrey",
   "metadata": {},
   "outputs": [
    {
     "name": "stdout",
     "output_type": "stream",
     "text": [
      "C:\\Users\\Big data\\Desktop\\OIDv4_ToolKit\n",
      "Requirement already satisfied: pandas in c:\\users\\big data\\appdata\\local\\programs\\python\\python37\\lib\\site-packages (from -r requirements.txt (line 1)) (1.2.4)\n",
      "Requirement already satisfied: numpy in c:\\users\\big data\\appdata\\local\\programs\\python\\python37\\lib\\site-packages (from -r requirements.txt (line 2)) (1.20.2)\n",
      "Requirement already satisfied: awscli in c:\\users\\big data\\appdata\\local\\programs\\python\\python37\\lib\\site-packages (from -r requirements.txt (line 3)) (1.19.57)\n",
      "Requirement already satisfied: urllib3 in c:\\users\\big data\\appdata\\local\\programs\\python\\python37\\lib\\site-packages (from -r requirements.txt (line 4)) (1.26.4)\n",
      "Requirement already satisfied: tqdm in c:\\users\\big data\\appdata\\local\\programs\\python\\python37\\lib\\site-packages (from -r requirements.txt (line 5)) (4.60.0)\n",
      "Requirement already satisfied: opencv-python in c:\\users\\big data\\appdata\\local\\programs\\python\\python37\\lib\\site-packages (from -r requirements.txt (line 6)) (4.5.1.48)\n",
      "Requirement already satisfied: rsa<4.8,>=3.1.2 in c:\\users\\big data\\appdata\\local\\programs\\python\\python37\\lib\\site-packages (from awscli->-r requirements.txt (line 3)) (4.7.2)\n",
      "Requirement already satisfied: PyYAML<5.5,>=3.10 in c:\\users\\big data\\appdata\\local\\programs\\python\\python37\\lib\\site-packages (from awscli->-r requirements.txt (line 3)) (5.4.1)\n",
      "Requirement already satisfied: s3transfer<0.5.0,>=0.4.0 in c:\\users\\big data\\appdata\\local\\programs\\python\\python37\\lib\\site-packages (from awscli->-r requirements.txt (line 3)) (0.4.2)\n",
      "Requirement already satisfied: docutils<0.16,>=0.10 in c:\\users\\big data\\appdata\\local\\programs\\python\\python37\\lib\\site-packages (from awscli->-r requirements.txt (line 3)) (0.15.2)\n",
      "Requirement already satisfied: botocore==1.20.57 in c:\\users\\big data\\appdata\\local\\programs\\python\\python37\\lib\\site-packages (from awscli->-r requirements.txt (line 3)) (1.20.57)\n",
      "Requirement already satisfied: colorama<0.4.4,>=0.2.5 in c:\\users\\big data\\appdata\\local\\programs\\python\\python37\\lib\\site-packages (from awscli->-r requirements.txt (line 3)) (0.4.3)\n",
      "Requirement already satisfied: python-dateutil<3.0.0,>=2.1 in c:\\users\\big data\\appdata\\local\\programs\\python\\python37\\lib\\site-packages (from botocore==1.20.57->awscli->-r requirements.txt (line 3)) (2.8.1)\n",
      "Requirement already satisfied: jmespath<1.0.0,>=0.7.1 in c:\\users\\big data\\appdata\\local\\programs\\python\\python37\\lib\\site-packages (from botocore==1.20.57->awscli->-r requirements.txt (line 3)) (0.10.0)\n",
      "Requirement already satisfied: six>=1.5 in c:\\users\\big data\\appdata\\local\\programs\\python\\python37\\lib\\site-packages (from python-dateutil<3.0.0,>=2.1->botocore==1.20.57->awscli->-r requirements.txt (line 3)) (1.15.0)\n",
      "Requirement already satisfied: pyasn1>=0.1.3 in c:\\users\\big data\\appdata\\local\\programs\\python\\python37\\lib\\site-packages (from rsa<4.8,>=3.1.2->awscli->-r requirements.txt (line 3)) (0.4.8)\n",
      "Requirement already satisfied: pytz>=2017.3 in c:\\users\\big data\\appdata\\local\\programs\\python\\python37\\lib\\site-packages (from pandas->-r requirements.txt (line 1)) (2021.1)\n"
     ]
    }
   ],
   "source": [
    "#安裝套件所需的套件，以系統管理員身分開啟命令提示字元：\n",
    "# 切換到套件資料夾路徑底下\n",
    "%cd C:\\Users\\Big data\\Desktop\\OIDv4_ToolKit\n",
    "\n",
    "# 安裝所需Python相依套件\n",
    "!pip3 install -r requirements.txt"
   ]
  },
  {
   "cell_type": "code",
   "execution_count": null,
   "id": "possible-roller",
   "metadata": {},
   "outputs": [
    {
     "name": "stdout",
     "output_type": "stream",
     "text": [
      "^C\n"
     ]
    }
   ],
   "source": [
    "#將Open Images Dataset所需要的分類圖片下載下來： windows command 執行\n",
    "!python main.py downloader --classes Tomato Carrot Cucumber Cheese Cabbage --type_csv train --limit 2000 --multiclasses 1\n",
    "!python main.py downloader --classes Tomato Carrot Cucumber Cheese Cabbage --type_csv validation --limit 200 --multiclasses 1"
   ]
  },
  {
   "cell_type": "code",
   "execution_count": null,
   "id": "aware-valuable",
   "metadata": {},
   "outputs": [],
   "source": [
    "#打開OIDv4_ToolKit資料夾內的classes.txt檔案，輸入我們下載的照片分類名稱\n",
    "# 執行產生YOLOv4模型所需標籤格式之程式\n",
    "!python convert_annotations.py"
   ]
  },
  {
   "cell_type": "code",
   "execution_count": null,
   "id": "difficult-plenty",
   "metadata": {},
   "outputs": [],
   "source": [
    "#C:\\Users\\User\\OIDv4_ToolKit目錄底下，新增這支名為create_catalog.py程式\n",
    "!python create_catalog.py"
   ]
  },
  {
   "cell_type": "code",
   "execution_count": null,
   "id": "native-execution",
   "metadata": {},
   "outputs": [],
   "source": [
    "#首先在model資料夾中，建立data和backup及results資料夾\n",
    "#在model\\data資料夾下，將剛在OIDv4_ToolKit資料夾建立的train.txt和validation.txt檔案複製過去。\n",
    "#接著將C:\\Users\\User\\OIDv4_ToolKit\\OID\\Dataset\\train\\Laptop_Computer mouse_Computer keyboard存放訓練集照片的資料夾，\n",
    "#移到model\\data資料夾內，並將資料夾名稱由Laptop_Computer mouse_Computer keyboard改為train。\n",
    "#再來將C:\\Users\\User\\OIDv4_ToolKit\\OID\\Dataset\\validation\\Laptop_Computer mouse_Computer keyboard存放驗證集照片的資料夾，\n",
    "#移到model\\data資料夾內，並將資料夾名稱由Laptop_Computer mouse_Computer keyboard改為validation。"
   ]
  },
  {
   "cell_type": "code",
   "execution_count": null,
   "id": "smooth-estimate",
   "metadata": {},
   "outputs": [],
   "source": [
    "# 在model\\data資料夾中新增obj.names檔案，裡面要放上YOLOv4模型要預測的分類名稱。直接將OIDv4_ToolKit/classes.txt複製過來即可，記得順序要相同。\n",
    "#新增obj.data檔案，此檔案是讓YOLOv4模型所需資料的相關路徑:\n",
    "# classes = 5\n",
    "# train  = data/train.txt\n",
    "# valid  = data/validation.txt\n",
    "# names = data/obj.names\n",
    "# backup = backup/"
   ]
  },
  {
   "cell_type": "code",
   "execution_count": 1,
   "id": "conservative-invalid",
   "metadata": {},
   "outputs": [
    {
     "name": "stdout",
     "output_type": "stream",
     "text": [
      "C:\\Users\\Big data\\Desktop\\model\n"
     ]
    }
   ],
   "source": [
    "%cd C:\\Users\\Big data\\Desktop\\model"
   ]
  },
  {
   "cell_type": "code",
   "execution_count": null,
   "id": "8ba1660c",
   "metadata": {},
   "outputs": [],
   "source": [
    "# 開始訓練\n",
    "# darknet detector train [模型資料路徑設定檔] [YOLOv4模型設定檔] [預訓練的權重檔案]\n",
    "darknet detector train data/obj.data yolov4-tiny-custom.cfg yolov4-tiny.conv.29 -map"
   ]
  },
  {
   "cell_type": "markdown",
   "id": "cb0677df",
   "metadata": {},
   "source": [
    "# YOLOv4模型評估標準涵蓋到兩種：\n",
    "\n",
    "IoU (intersect over union)\n",
    "mAP (mean average precision)"
   ]
  },
  {
   "cell_type": "code",
   "execution_count": null,
   "id": "a9682d1b",
   "metadata": {},
   "outputs": [],
   "source": [
    "#可以執行以下指令來得到模型預測的績效：\n",
    "# darknet detector map [模型資料路徑設定檔] [YOLOv4模型設定檔] [訓練過程中最佳的權重檔案]\n",
    "darknet detector map data/obj.data yolov4-tiny-custom.cfg backup/yolov4-tiny-custom_best.weights"
   ]
  },
  {
   "cell_type": "code",
   "execution_count": null,
   "id": "5c882978",
   "metadata": {},
   "outputs": [],
   "source": [
    "# darknet detector test [模型資料路徑設定檔] [YOLOv4模型設定檔] [訓練過程中最佳的權重檔案] [要預測的照片路徑位置]\n",
    "darknet detector test data/obj.data yolov4-tiny-custom.cfg backup/yolov4-tiny-custom_best.weights data/validation/番茄.jfif"
   ]
  }
 ],
 "metadata": {
  "kernelspec": {
   "display_name": "Python 3",
   "language": "python",
   "name": "python3"
  },
  "language_info": {
   "codemirror_mode": {
    "name": "ipython",
    "version": 3
   },
   "file_extension": ".py",
   "mimetype": "text/x-python",
   "name": "python",
   "nbconvert_exporter": "python",
   "pygments_lexer": "ipython3",
   "version": "3.7.4"
  }
 },
 "nbformat": 4,
 "nbformat_minor": 5
}
